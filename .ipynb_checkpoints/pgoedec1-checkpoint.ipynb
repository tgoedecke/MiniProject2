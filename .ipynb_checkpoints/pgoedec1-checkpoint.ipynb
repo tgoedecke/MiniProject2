{
 "cells": [
  {
   "cell_type": "code",
   "execution_count": null,
   "metadata": {},
   "outputs": [],
   "source": [
    "import sys, json, pymongo, time, datetime, re, requests\n",
    "from urllib.parse import quote\n",
    "\n",
    "#for da2 \n",
    "client = pymongo.MongoClient (host=\"da1.eecs.utk.edu\")\n",
    "#for gcloud machine\n",
    "#client = pymongo.MongoClient ()\n",
    "\n",
    "db = client ['fdac18mp2']\n",
    "\n",
    "#replace audris with your utkid\n",
    "coll = db['npm_pgoedec1']\n",
    "\n",
    "pre = 'https://api.npms.io/v2/package/'\n",
    "\n",
    "def output(s, p):\n",
    " print(str(s) + \";\" + p)\n",
    "\n",
    "for pname in sys.stdin.readlines():\n",
    " pname = pname.strip('\\n')\n",
    " #Thks @Macbrine: url parameters need to be quoted\n",
    " pname  = quote(pname, safe='')\n",
    " r = requests.get(pre + pname)\n",
    " if(r.ok):\n",
    "  result = r.content\n",
    "  try:\n",
    "   result_json = json.loads(result.decode('ascii', errors='ignore'))\n",
    "   #modify keys to remove unwanted '$' '.' characters that mongodb does not allow\n",
    "   r1 = {}\n",
    "   for k in result_json:\n",
    "    k1 = k.replace('$', 'DOLLARSIGN')\n",
    "    k1 = k1.replace('.', 'PERIODSIGN')\n",
    "    r1 [k1] = result_json [k]\n",
    "   coll .insert_one (r1)\n",
    "   output (0, pname)\n",
    "  except:\n",
    "   e = sys.exc_info()[0]\n",
    "   output (e, pname)\n",
    " else:\n",
    "  output (r .ok, pname)\n",
    "\n",
    "\n"
   ]
  }
 ],
 "metadata": {
  "kernelspec": {
   "display_name": "Python 3",
   "language": "python",
   "name": "python3"
  },
  "language_info": {
   "codemirror_mode": {
    "name": "ipython",
    "version": 3
   },
   "file_extension": ".py",
   "mimetype": "text/x-python",
   "name": "python",
   "nbconvert_exporter": "python",
   "pygments_lexer": "ipython3",
   "version": "3.5.2"
  }
 },
 "nbformat": 4,
 "nbformat_minor": 2
}
